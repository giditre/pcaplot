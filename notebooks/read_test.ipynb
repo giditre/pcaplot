{
 "cells": [
  {
   "cell_type": "code",
   "execution_count": 78,
   "metadata": {},
   "outputs": [],
   "source": [
    "import scapy.all as sca"
   ]
  },
  {
   "cell_type": "code",
   "execution_count": 79,
   "metadata": {},
   "outputs": [
    {
     "data": {
      "text/plain": [
       "<TRex_to_R11.pcap: TCP:0 UDP:6991 ICMP:0 Other:16>"
      ]
     },
     "execution_count": 79,
     "metadata": {},
     "output_type": "execute_result"
    }
   ],
   "source": [
    "pcap_flow = sca.rdpcap(\"../sample_pcap_files/test01/TRex_to_R11.pcap\")\n",
    "pcap_flow"
   ]
  },
  {
   "cell_type": "code",
   "execution_count": 80,
   "metadata": {},
   "outputs": [
    {
     "data": {
      "text/plain": [
       "<Ether  dst=52:54:00:04:b8:ef src=52:54:00:1b:f0:f0 type=IPv4 |<IP  version=4 ihl=5 tos=0x1 len=31 id=65535 flags=DF frag=0 ttl=64 proto=udp chksum=0x6be5 src=192.168.111.10 dst=192.168.222.140 |<UDP  sport=46924 dport=8001 len=11 chksum=0xe7f8 |<Raw  load='hi\\\\xab' |<Padding  load='\\x0b\\x02\\x00\\\\xfe\\\\xff\\\\xff\\\\xff8hM\\\\xbb\\\\xcec\\x01\\x00' |>>>>>"
      ]
     },
     "execution_count": 80,
     "metadata": {},
     "output_type": "execute_result"
    }
   ],
   "source": [
    "p = next( p for p in pcap_flow if p.haslayer(sca.UDP) )\n",
    "p"
   ]
  },
  {
   "cell_type": "code",
   "execution_count": 81,
   "metadata": {},
   "outputs": [
    {
     "data": {
      "text/plain": [
       "\"Ether(dst='52:54:00:04:b8:ef', src='52:54:00:1b:f0:f0', type=2048)/IP(version=4, ihl=5, tos=1, len=31, id=65535, flags=2, frag=0, ttl=64, proto=17, chksum=27621, src='192.168.111.10', dst='192.168.222.140')/UDP(sport=46924, dport=8001, len=11, chksum=59384)/Raw(load=b'hi\\\\xab')/Padding(load=b'\\\\x0b\\\\x02\\\\x00\\\\xfe\\\\xff\\\\xff\\\\xff8hM\\\\xbb\\\\xcec\\\\x01\\\\x00')\""
      ]
     },
     "execution_count": 81,
     "metadata": {},
     "output_type": "execute_result"
    }
   ],
   "source": [
    "p.command()"
   ]
  },
  {
   "cell_type": "code",
   "execution_count": 82,
   "metadata": {},
   "outputs": [
    {
     "data": {
      "text/plain": [
       "1678201912.4089"
      ]
     },
     "execution_count": 82,
     "metadata": {},
     "output_type": "execute_result"
    }
   ],
   "source": [
    "float(p.time)"
   ]
  },
  {
   "cell_type": "code",
   "execution_count": 83,
   "metadata": {},
   "outputs": [
    {
     "name": "stdout",
     "output_type": "stream",
     "text": [
      "###[ Ethernet ]### \n",
      "  dst       = 52:54:00:04:b8:ef\n",
      "  src       = 52:54:00:1b:f0:f0\n",
      "  type      = IPv4\n",
      "###[ IP ]### \n",
      "     version   = 4\n",
      "     ihl       = 5\n",
      "     tos       = 0x1\n",
      "     len       = 31\n",
      "     id        = 65535\n",
      "     flags     = DF\n",
      "     frag      = 0\n",
      "     ttl       = 64\n",
      "     proto     = udp\n",
      "     chksum    = 0x6be5\n",
      "     src       = 192.168.111.10\n",
      "     dst       = 192.168.222.140\n",
      "     \\options   \\\n",
      "###[ UDP ]### \n",
      "        sport     = 46924\n",
      "        dport     = 8001\n",
      "        len       = 11\n",
      "        chksum    = 0xe7f8\n",
      "###[ Raw ]### \n",
      "           load      = 'hi\\\\xab'\n",
      "###[ Padding ]### \n",
      "              load      = '\\x0b\\x02\\x00\\\\xfe\\\\xff\\\\xff\\\\xff8hM\\\\xbb\\\\xcec\\x01\\x00'\n",
      "\n"
     ]
    }
   ],
   "source": [
    "p.show()"
   ]
  },
  {
   "cell_type": "code",
   "execution_count": 84,
   "metadata": {},
   "outputs": [
    {
     "data": {
      "text/plain": [
       "{'dst': '52:54:00:04:b8:ef', 'src': '52:54:00:1b:f0:f0', 'type': 2048}"
      ]
     },
     "execution_count": 84,
     "metadata": {},
     "output_type": "execute_result"
    }
   ],
   "source": [
    "p.fields"
   ]
  },
  {
   "cell_type": "code",
   "execution_count": 85,
   "metadata": {},
   "outputs": [],
   "source": [
    "p.direction"
   ]
  },
  {
   "cell_type": "code",
   "execution_count": 86,
   "metadata": {},
   "outputs": [
    {
     "data": {
      "text/plain": [
       "[scapy.layers.l2.Ether,\n",
       " scapy.layers.inet.IP,\n",
       " scapy.layers.inet.UDP,\n",
       " scapy.packet.Raw,\n",
       " scapy.packet.Padding]"
      ]
     },
     "execution_count": 86,
     "metadata": {},
     "output_type": "execute_result"
    }
   ],
   "source": [
    "p.layers()"
   ]
  },
  {
   "cell_type": "code",
   "execution_count": 87,
   "metadata": {},
   "outputs": [
    {
     "data": {
      "text/plain": [
       "<IP  version=4 ihl=5 tos=0x1 len=31 id=65535 flags=DF frag=0 ttl=64 proto=udp chksum=0x6be5 src=192.168.111.10 dst=192.168.222.140 |<UDP  sport=46924 dport=8001 len=11 chksum=0xe7f8 |<Raw  load='hi\\\\xab' |<Padding  load='\\x0b\\x02\\x00\\\\xfe\\\\xff\\\\xff\\\\xff8hM\\\\xbb\\\\xcec\\x01\\x00' |>>>>"
      ]
     },
     "execution_count": 87,
     "metadata": {},
     "output_type": "execute_result"
    }
   ],
   "source": [
    "p.payload"
   ]
  },
  {
   "cell_type": "code",
   "execution_count": 88,
   "metadata": {},
   "outputs": [
    {
     "data": {
      "text/plain": [
       "True"
      ]
     },
     "execution_count": 88,
     "metadata": {},
     "output_type": "execute_result"
    }
   ],
   "source": [
    "bool(p.haslayer(sca.IP))"
   ]
  },
  {
   "cell_type": "code",
   "execution_count": 89,
   "metadata": {},
   "outputs": [
    {
     "data": {
      "text/plain": [
       "True"
      ]
     },
     "execution_count": 89,
     "metadata": {},
     "output_type": "execute_result"
    }
   ],
   "source": [
    "bool(p.haslayer(sca.UDP))"
   ]
  },
  {
   "cell_type": "code",
   "execution_count": 90,
   "metadata": {},
   "outputs": [
    {
     "data": {
      "text/plain": [
       "False"
      ]
     },
     "execution_count": 90,
     "metadata": {},
     "output_type": "execute_result"
    }
   ],
   "source": [
    "bool(p.haslayer(sca.ICMP))"
   ]
  },
  {
   "cell_type": "code",
   "execution_count": 91,
   "metadata": {},
   "outputs": [
    {
     "data": {
      "text/plain": [
       "True"
      ]
     },
     "execution_count": 91,
     "metadata": {},
     "output_type": "execute_result"
    }
   ],
   "source": [
    "bool(p.haslayer(sca.Padding))"
   ]
  },
  {
   "cell_type": "code",
   "execution_count": 92,
   "metadata": {},
   "outputs": [
    {
     "data": {
      "text/plain": [
       "<Ether  dst=52:54:00:04:b8:ef src=52:54:00:1b:f0:f0 type=IPv4 |<IP  version=4 ihl=5 tos=0x1 len=31 id=65535 flags=DF frag=0 ttl=64 proto=udp chksum=0x6be5 src=192.168.111.10 dst=192.168.222.140 |<UDP  sport=46924 dport=8001 len=11 chksum=0xe7f8 |<Raw  load='hi\\\\xab' |>>>>"
      ]
     },
     "execution_count": 92,
     "metadata": {},
     "output_type": "execute_result"
    }
   ],
   "source": [
    "p.getlayer(sca.UDP).payload.remove_payload()\n",
    "p"
   ]
  },
  {
   "cell_type": "code",
   "execution_count": 93,
   "metadata": {},
   "outputs": [
    {
     "data": {
      "text/plain": [
       "<UDP  sport=46924 dport=8001 len=11 chksum=0xe7f8 |<Raw  load='hi\\\\xab' |>>"
      ]
     },
     "execution_count": 93,
     "metadata": {},
     "output_type": "execute_result"
    }
   ],
   "source": [
    "p.getlayer(sca.UDP).payload.remove_payload()\n",
    "p.getlayer(sca.UDP)"
   ]
  },
  {
   "cell_type": "code",
   "execution_count": 94,
   "metadata": {},
   "outputs": [
    {
     "data": {
      "text/plain": [
       "11"
      ]
     },
     "execution_count": 94,
     "metadata": {},
     "output_type": "execute_result"
    }
   ],
   "source": [
    "len(p.getlayer(sca.UDP))"
   ]
  },
  {
   "cell_type": "code",
   "execution_count": 95,
   "metadata": {},
   "outputs": [
    {
     "data": {
      "text/plain": [
       "[<matplotlib.lines.Line2D at 0x7f4da395ee50>]"
      ]
     },
     "execution_count": 95,
     "metadata": {},
     "output_type": "execute_result"
    },
    {
     "data": {
      "image/png": "[encoded data removed]",
      "text/plain": [
       "<Figure size 640x480 with 1 Axes>"
      ]
     },
     "metadata": {},
     "output_type": "display_data"
    }
   ],
   "source": [
    "pcap_flow.plot(lambda x:len(x), lfilter=lambda x: x.haslayer(sca.UDP))"
   ]
  }
 ],
 "metadata": {
  "kernelspec": {
   "display_name": "Python 3",
   "language": "python",
   "name": "python3"
  },
  "language_info": {
   "codemirror_mode": {
    "name": "ipython",
    "version": 3
   },
   "file_extension": ".py",
   "mimetype": "text/x-python",
   "name": "python",
   "nbconvert_exporter": "python",
   "pygments_lexer": "ipython3",
   "version": "3.8.10"
  },
  "orig_nbformat": 4
 },
 "nbformat": 4,
 "nbformat_minor": 2
}
