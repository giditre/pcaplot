{
 "cells": [
  {
   "cell_type": "code",
   "execution_count": 1,
   "metadata": {},
   "outputs": [
    {
     "name": "stderr",
     "output_type": "stream",
     "text": [
      "/usr/local/lib/python3.8/dist-packages/scapy/layers/ipsec.py:471: CryptographyDeprecationWarning: Blowfish has been deprecated\n",
      "  cipher=algorithms.Blowfish,\n",
      "/usr/local/lib/python3.8/dist-packages/scapy/layers/ipsec.py:485: CryptographyDeprecationWarning: CAST5 has been deprecated\n",
      "  cipher=algorithms.CAST5,\n"
     ]
    }
   ],
   "source": [
    "import scapy.all as sc"
   ]
  },
  {
   "cell_type": "code",
   "execution_count": 2,
   "metadata": {},
   "outputs": [
    {
     "data": {
      "text/plain": [
       "<IP  dst=Net(\"www.slashdot.org/30\") |>"
      ]
     },
     "execution_count": 2,
     "metadata": {},
     "output_type": "execute_result"
    }
   ],
   "source": [
    "a=sc.IP(dst=\"www.slashdot.org/30\")\n",
    "a"
   ]
  },
  {
   "cell_type": "code",
   "execution_count": 3,
   "metadata": {},
   "outputs": [
    {
     "data": {
      "text/plain": [
       "[<IP  dst=104.18.29.84 |>,\n",
       " <IP  dst=104.18.29.85 |>,\n",
       " <IP  dst=104.18.29.86 |>,\n",
       " <IP  dst=104.18.29.87 |>]"
      ]
     },
     "execution_count": 3,
     "metadata": {},
     "output_type": "execute_result"
    }
   ],
   "source": [
    "[p for p in a]"
   ]
  },
  {
   "cell_type": "code",
   "execution_count": 4,
   "metadata": {},
   "outputs": [
    {
     "data": {
      "text/plain": [
       "<IP  ttl=[1, 2, (5, 9)] |>"
      ]
     },
     "execution_count": 4,
     "metadata": {},
     "output_type": "execute_result"
    }
   ],
   "source": [
    "b=sc.IP(ttl=[1,2,(5,9)])\n",
    "b"
   ]
  },
  {
   "cell_type": "code",
   "execution_count": 5,
   "metadata": {},
   "outputs": [
    {
     "data": {
      "text/plain": [
       "[<IP  ttl=1 |>,\n",
       " <IP  ttl=2 |>,\n",
       " <IP  ttl=5 |>,\n",
       " <IP  ttl=6 |>,\n",
       " <IP  ttl=7 |>,\n",
       " <IP  ttl=8 |>,\n",
       " <IP  ttl=9 |>]"
      ]
     },
     "execution_count": 5,
     "metadata": {},
     "output_type": "execute_result"
    }
   ],
   "source": [
    "[p for p in b]"
   ]
  },
  {
   "cell_type": "code",
   "execution_count": 6,
   "metadata": {},
   "outputs": [
    {
     "data": {
      "text/plain": [
       "<TCP  dport=['http', 'https'] |>"
      ]
     },
     "execution_count": 6,
     "metadata": {},
     "output_type": "execute_result"
    }
   ],
   "source": [
    "c=sc.TCP(dport=[80,443])\n",
    "c"
   ]
  },
  {
   "cell_type": "code",
   "execution_count": 7,
   "metadata": {},
   "outputs": [
    {
     "data": {
      "text/plain": [
       "[<IP  frag=0 proto=tcp dst=104.18.29.84 |<TCP  dport=http |>>,\n",
       " <IP  frag=0 proto=tcp dst=104.18.29.84 |<TCP  dport=https |>>,\n",
       " <IP  frag=0 proto=tcp dst=104.18.29.85 |<TCP  dport=http |>>,\n",
       " <IP  frag=0 proto=tcp dst=104.18.29.85 |<TCP  dport=https |>>,\n",
       " <IP  frag=0 proto=tcp dst=104.18.29.86 |<TCP  dport=http |>>,\n",
       " <IP  frag=0 proto=tcp dst=104.18.29.86 |<TCP  dport=https |>>,\n",
       " <IP  frag=0 proto=tcp dst=104.18.29.87 |<TCP  dport=http |>>,\n",
       " <IP  frag=0 proto=tcp dst=104.18.29.87 |<TCP  dport=https |>>]"
      ]
     },
     "execution_count": 7,
     "metadata": {},
     "output_type": "execute_result"
    }
   ],
   "source": [
    "[p for p in a/c]"
   ]
  },
  {
   "cell_type": "code",
   "execution_count": 8,
   "metadata": {},
   "outputs": [
    {
     "data": {
      "text/plain": [
       "<PacketList: TCP:0 UDP:0 ICMP:0 Other:4>"
      ]
     },
     "execution_count": 8,
     "metadata": {},
     "output_type": "execute_result"
    }
   ],
   "source": [
    "p = sc.PacketList(a)\n",
    "p"
   ]
  },
  {
   "cell_type": "code",
   "execution_count": 9,
   "metadata": {},
   "outputs": [
    {
     "data": {
      "text/plain": [
       "<PacketList: TCP:8 UDP:0 ICMP:0 Other:0>"
      ]
     },
     "execution_count": 9,
     "metadata": {},
     "output_type": "execute_result"
    }
   ],
   "source": [
    "p = sc.PacketList([p for p in a/c])\n",
    "p"
   ]
  },
  {
   "cell_type": "code",
   "execution_count": 10,
   "metadata": {},
   "outputs": [
    {
     "data": {
      "text/plain": [
       "[<matplotlib.lines.Line2D at 0x7f7d7fc58d90>]"
      ]
     },
     "execution_count": 10,
     "metadata": {},
     "output_type": "execute_result"
    },
    {
     "data": {
      "image/png": "[encoded data removed]",
      "text/plain": [
       "<Figure size 640x480 with 1 Axes>"
      ]
     },
     "metadata": {},
     "output_type": "display_data"
    }
   ],
   "source": [
    "p.plot(lambda x:len(x))\n"
   ]
  }
 ],
 "metadata": {
  "kernelspec": {
   "display_name": "Python 3",
   "language": "python",
   "name": "python3"
  },
  "language_info": {
   "codemirror_mode": {
    "name": "ipython",
    "version": 3
   },
   "file_extension": ".py",
   "mimetype": "text/x-python",
   "name": "python",
   "nbconvert_exporter": "python",
   "pygments_lexer": "ipython3",
   "version": "3.8.10"
  },
  "orig_nbformat": 4
 },
 "nbformat": 4,
 "nbformat_minor": 2
}
